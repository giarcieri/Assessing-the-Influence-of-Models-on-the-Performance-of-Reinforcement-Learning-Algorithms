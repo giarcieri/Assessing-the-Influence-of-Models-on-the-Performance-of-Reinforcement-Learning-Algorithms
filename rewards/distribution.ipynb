{
 "cells": [
  {
   "cell_type": "code",
   "execution_count": 1,
   "metadata": {},
   "outputs": [],
   "source": [
    "#%matplotlib inline\n",
    "import matplotlib as mpl\n",
    "mpl.use(\"pgf\")\n",
    "import matplotlib.pyplot as plt\n",
    "from matplotlib.pyplot import rc\n",
    "rc('font',**{'family':'sans-serif','sans-serif':['Helvetica']})\n",
    "## for Palatino and other serif fonts use:\n",
    "#rc('font',**{'family':'serif'\n",
    "             #,'serif':['Computer Modern Roman']\n",
    "#            })\n",
    "rc('text', usetex=True)\n",
    "mpl.rc('axes', labelsize=14)\n",
    "mpl.rc('xtick', labelsize=12)\n",
    "mpl.rc('ytick', labelsize=12)"
   ]
  },
  {
   "cell_type": "code",
   "execution_count": 2,
   "metadata": {},
   "outputs": [
    {
     "name": "stderr",
     "output_type": "stream",
     "text": [
      "WARNING (theano.configdefaults): g++ not available, if using conda: `conda install m2w64-toolchain`\n",
      "C:\\Users\\giaa9\\anaconda3\\envs\\pymc\\lib\\site-packages\\theano\\configdefaults.py:560: UserWarning: DeprecationWarning: there is no c++ compiler.This is deprecated and with Theano 0.11 a c++ compiler will be mandatory\n",
      "  warnings.warn(\"DeprecationWarning: there is no c++ compiler.\"\n",
      "WARNING (theano.configdefaults): g++ not detected ! Theano will be unable to execute optimized C-implementations (for both CPU and GPU) and will default to Python implementations. Performance will be severely degraded. To remove this warning, set Theano flags cxx to an empty string.\n",
      "WARNING (theano.configdefaults): install mkl with `conda install mkl-service`: No module named 'mkl'\n",
      "WARNING (theano.tensor.blas): Using NumPy C-API based implementation for BLAS functions.\n"
     ]
    }
   ],
   "source": [
    "import arviz as az\n",
    "#import matplotlib.pyplot as plt\n",
    "import numpy as np\n",
    "import pymc3 as pm\n",
    "import scipy.stats as stats\n",
    "import pickle"
   ]
  },
  {
   "cell_type": "code",
   "execution_count": 3,
   "metadata": {},
   "outputs": [],
   "source": [
    "%config InlineBackend.figure_format = 'retina'\n",
    "%load_ext watermark\n",
    "az.style.use('arviz-darkgrid')"
   ]
  },
  {
   "cell_type": "code",
   "execution_count": 4,
   "metadata": {},
   "outputs": [],
   "source": [
    "file = './rewards/rewards_dropoutNN_InvertedDoublePendulumMuJoCoEnv-v0_seed42-75_12-08-2020.pickle'\n",
    "\n",
    "with open(file, \"rb\") as fp:   # Unpickling\n",
    "    samples34seeds = pickle.load(fp)"
   ]
  },
  {
   "cell_type": "code",
   "execution_count": 5,
   "metadata": {},
   "outputs": [
    {
     "data": {
      "text/plain": [
       "array([ 0,  5, 10, 15, 20, 25, 30, 35, 40, 45, 50, 55, 60, 65, 70, 75, 80,\n",
       "       85, 90, 95])"
      ]
     },
     "execution_count": 5,
     "metadata": {},
     "output_type": "execute_result"
    }
   ],
   "source": [
    "x = np.arange(0, 100, 5)\n",
    "x"
   ]
  },
  {
   "cell_type": "code",
   "execution_count": 6,
   "metadata": {},
   "outputs": [
    {
     "name": "stderr",
     "output_type": "stream",
     "text": [
      "C:\\Users\\giaa9\\anaconda3\\envs\\pymc\\lib\\site-packages\\arviz\\data\\base.py:146: UserWarning: More chains (34) than draws (1). Passed array should have shape (chains, draws, *shape)\n",
      "  UserWarning,\n",
      "findfont: Font family ['sans-serif'] not found. Falling back to DejaVu Sans.\n"
     ]
    },
    {
     "name": "stdout",
     "output_type": "stream",
     "text": [
      "Saving figure InvertedDoublePendulum_density_sample_0\n"
     ]
    },
    {
     "name": "stderr",
     "output_type": "stream",
     "text": [
      "C:\\Users\\giaa9\\anaconda3\\envs\\pymc\\lib\\site-packages\\ipykernel_launcher.py:11: UserWarning: This figure was using constrained_layout==True, but that is incompatible with subplots_adjust and or tight_layout: setting constrained_layout==False. \n",
      "  # This is added back by InteractiveShellApp.init_path()\n",
      "C:\\Users\\giaa9\\anaconda3\\envs\\pymc\\lib\\site-packages\\arviz\\data\\base.py:146: UserWarning: More chains (34) than draws (1). Passed array should have shape (chains, draws, *shape)\n",
      "  UserWarning,\n"
     ]
    },
    {
     "name": "stdout",
     "output_type": "stream",
     "text": [
      "Saving figure InvertedDoublePendulum_density_sample_5\n"
     ]
    },
    {
     "name": "stderr",
     "output_type": "stream",
     "text": [
      "C:\\Users\\giaa9\\anaconda3\\envs\\pymc\\lib\\site-packages\\ipykernel_launcher.py:11: UserWarning: This figure was using constrained_layout==True, but that is incompatible with subplots_adjust and or tight_layout: setting constrained_layout==False. \n",
      "  # This is added back by InteractiveShellApp.init_path()\n",
      "C:\\Users\\giaa9\\anaconda3\\envs\\pymc\\lib\\site-packages\\arviz\\data\\base.py:146: UserWarning: More chains (34) than draws (1). Passed array should have shape (chains, draws, *shape)\n",
      "  UserWarning,\n"
     ]
    },
    {
     "name": "stdout",
     "output_type": "stream",
     "text": [
      "Saving figure InvertedDoublePendulum_density_sample_10\n"
     ]
    },
    {
     "name": "stderr",
     "output_type": "stream",
     "text": [
      "C:\\Users\\giaa9\\anaconda3\\envs\\pymc\\lib\\site-packages\\ipykernel_launcher.py:11: UserWarning: This figure was using constrained_layout==True, but that is incompatible with subplots_adjust and or tight_layout: setting constrained_layout==False. \n",
      "  # This is added back by InteractiveShellApp.init_path()\n",
      "C:\\Users\\giaa9\\anaconda3\\envs\\pymc\\lib\\site-packages\\arviz\\data\\base.py:146: UserWarning: More chains (34) than draws (1). Passed array should have shape (chains, draws, *shape)\n",
      "  UserWarning,\n"
     ]
    },
    {
     "name": "stdout",
     "output_type": "stream",
     "text": [
      "Saving figure InvertedDoublePendulum_density_sample_15\n"
     ]
    },
    {
     "name": "stderr",
     "output_type": "stream",
     "text": [
      "C:\\Users\\giaa9\\anaconda3\\envs\\pymc\\lib\\site-packages\\ipykernel_launcher.py:11: UserWarning: This figure was using constrained_layout==True, but that is incompatible with subplots_adjust and or tight_layout: setting constrained_layout==False. \n",
      "  # This is added back by InteractiveShellApp.init_path()\n",
      "C:\\Users\\giaa9\\anaconda3\\envs\\pymc\\lib\\site-packages\\arviz\\data\\base.py:146: UserWarning: More chains (34) than draws (1). Passed array should have shape (chains, draws, *shape)\n",
      "  UserWarning,\n"
     ]
    },
    {
     "name": "stdout",
     "output_type": "stream",
     "text": [
      "Saving figure InvertedDoublePendulum_density_sample_20\n"
     ]
    },
    {
     "name": "stderr",
     "output_type": "stream",
     "text": [
      "C:\\Users\\giaa9\\anaconda3\\envs\\pymc\\lib\\site-packages\\ipykernel_launcher.py:11: UserWarning: This figure was using constrained_layout==True, but that is incompatible with subplots_adjust and or tight_layout: setting constrained_layout==False. \n",
      "  # This is added back by InteractiveShellApp.init_path()\n",
      "C:\\Users\\giaa9\\anaconda3\\envs\\pymc\\lib\\site-packages\\arviz\\data\\base.py:146: UserWarning: More chains (34) than draws (1). Passed array should have shape (chains, draws, *shape)\n",
      "  UserWarning,\n"
     ]
    },
    {
     "name": "stdout",
     "output_type": "stream",
     "text": [
      "Saving figure InvertedDoublePendulum_density_sample_25\n"
     ]
    },
    {
     "name": "stderr",
     "output_type": "stream",
     "text": [
      "C:\\Users\\giaa9\\anaconda3\\envs\\pymc\\lib\\site-packages\\ipykernel_launcher.py:11: UserWarning: This figure was using constrained_layout==True, but that is incompatible with subplots_adjust and or tight_layout: setting constrained_layout==False. \n",
      "  # This is added back by InteractiveShellApp.init_path()\n",
      "C:\\Users\\giaa9\\anaconda3\\envs\\pymc\\lib\\site-packages\\arviz\\data\\base.py:146: UserWarning: More chains (34) than draws (1). Passed array should have shape (chains, draws, *shape)\n",
      "  UserWarning,\n"
     ]
    },
    {
     "name": "stdout",
     "output_type": "stream",
     "text": [
      "Saving figure InvertedDoublePendulum_density_sample_30\n"
     ]
    },
    {
     "name": "stderr",
     "output_type": "stream",
     "text": [
      "C:\\Users\\giaa9\\anaconda3\\envs\\pymc\\lib\\site-packages\\ipykernel_launcher.py:11: UserWarning: This figure was using constrained_layout==True, but that is incompatible with subplots_adjust and or tight_layout: setting constrained_layout==False. \n",
      "  # This is added back by InteractiveShellApp.init_path()\n",
      "C:\\Users\\giaa9\\anaconda3\\envs\\pymc\\lib\\site-packages\\arviz\\data\\base.py:146: UserWarning: More chains (34) than draws (1). Passed array should have shape (chains, draws, *shape)\n",
      "  UserWarning,\n"
     ]
    },
    {
     "name": "stdout",
     "output_type": "stream",
     "text": [
      "Saving figure InvertedDoublePendulum_density_sample_35\n"
     ]
    },
    {
     "name": "stderr",
     "output_type": "stream",
     "text": [
      "C:\\Users\\giaa9\\anaconda3\\envs\\pymc\\lib\\site-packages\\ipykernel_launcher.py:11: UserWarning: This figure was using constrained_layout==True, but that is incompatible with subplots_adjust and or tight_layout: setting constrained_layout==False. \n",
      "  # This is added back by InteractiveShellApp.init_path()\n",
      "C:\\Users\\giaa9\\anaconda3\\envs\\pymc\\lib\\site-packages\\arviz\\data\\base.py:146: UserWarning: More chains (34) than draws (1). Passed array should have shape (chains, draws, *shape)\n",
      "  UserWarning,\n"
     ]
    },
    {
     "name": "stdout",
     "output_type": "stream",
     "text": [
      "Saving figure InvertedDoublePendulum_density_sample_40\n"
     ]
    },
    {
     "name": "stderr",
     "output_type": "stream",
     "text": [
      "C:\\Users\\giaa9\\anaconda3\\envs\\pymc\\lib\\site-packages\\ipykernel_launcher.py:11: UserWarning: This figure was using constrained_layout==True, but that is incompatible with subplots_adjust and or tight_layout: setting constrained_layout==False. \n",
      "  # This is added back by InteractiveShellApp.init_path()\n",
      "C:\\Users\\giaa9\\anaconda3\\envs\\pymc\\lib\\site-packages\\arviz\\data\\base.py:146: UserWarning: More chains (34) than draws (1). Passed array should have shape (chains, draws, *shape)\n",
      "  UserWarning,\n"
     ]
    },
    {
     "name": "stdout",
     "output_type": "stream",
     "text": [
      "Saving figure InvertedDoublePendulum_density_sample_45\n"
     ]
    },
    {
     "name": "stderr",
     "output_type": "stream",
     "text": [
      "C:\\Users\\giaa9\\anaconda3\\envs\\pymc\\lib\\site-packages\\ipykernel_launcher.py:11: UserWarning: This figure was using constrained_layout==True, but that is incompatible with subplots_adjust and or tight_layout: setting constrained_layout==False. \n",
      "  # This is added back by InteractiveShellApp.init_path()\n",
      "C:\\Users\\giaa9\\anaconda3\\envs\\pymc\\lib\\site-packages\\arviz\\data\\base.py:146: UserWarning: More chains (34) than draws (1). Passed array should have shape (chains, draws, *shape)\n",
      "  UserWarning,\n"
     ]
    },
    {
     "name": "stdout",
     "output_type": "stream",
     "text": [
      "Saving figure InvertedDoublePendulum_density_sample_50\n"
     ]
    },
    {
     "name": "stderr",
     "output_type": "stream",
     "text": [
      "C:\\Users\\giaa9\\anaconda3\\envs\\pymc\\lib\\site-packages\\ipykernel_launcher.py:11: UserWarning: This figure was using constrained_layout==True, but that is incompatible with subplots_adjust and or tight_layout: setting constrained_layout==False. \n",
      "  # This is added back by InteractiveShellApp.init_path()\n",
      "C:\\Users\\giaa9\\anaconda3\\envs\\pymc\\lib\\site-packages\\arviz\\data\\base.py:146: UserWarning: More chains (34) than draws (1). Passed array should have shape (chains, draws, *shape)\n",
      "  UserWarning,\n"
     ]
    },
    {
     "name": "stdout",
     "output_type": "stream",
     "text": [
      "Saving figure InvertedDoublePendulum_density_sample_55\n"
     ]
    },
    {
     "name": "stderr",
     "output_type": "stream",
     "text": [
      "C:\\Users\\giaa9\\anaconda3\\envs\\pymc\\lib\\site-packages\\ipykernel_launcher.py:11: UserWarning: This figure was using constrained_layout==True, but that is incompatible with subplots_adjust and or tight_layout: setting constrained_layout==False. \n",
      "  # This is added back by InteractiveShellApp.init_path()\n",
      "C:\\Users\\giaa9\\anaconda3\\envs\\pymc\\lib\\site-packages\\arviz\\data\\base.py:146: UserWarning: More chains (34) than draws (1). Passed array should have shape (chains, draws, *shape)\n",
      "  UserWarning,\n"
     ]
    },
    {
     "name": "stdout",
     "output_type": "stream",
     "text": [
      "Saving figure InvertedDoublePendulum_density_sample_60\n"
     ]
    },
    {
     "name": "stderr",
     "output_type": "stream",
     "text": [
      "C:\\Users\\giaa9\\anaconda3\\envs\\pymc\\lib\\site-packages\\ipykernel_launcher.py:11: UserWarning: This figure was using constrained_layout==True, but that is incompatible with subplots_adjust and or tight_layout: setting constrained_layout==False. \n",
      "  # This is added back by InteractiveShellApp.init_path()\n",
      "C:\\Users\\giaa9\\anaconda3\\envs\\pymc\\lib\\site-packages\\arviz\\data\\base.py:146: UserWarning: More chains (34) than draws (1). Passed array should have shape (chains, draws, *shape)\n",
      "  UserWarning,\n"
     ]
    },
    {
     "name": "stdout",
     "output_type": "stream",
     "text": [
      "Saving figure InvertedDoublePendulum_density_sample_65\n"
     ]
    },
    {
     "name": "stderr",
     "output_type": "stream",
     "text": [
      "C:\\Users\\giaa9\\anaconda3\\envs\\pymc\\lib\\site-packages\\ipykernel_launcher.py:11: UserWarning: This figure was using constrained_layout==True, but that is incompatible with subplots_adjust and or tight_layout: setting constrained_layout==False. \n",
      "  # This is added back by InteractiveShellApp.init_path()\n",
      "C:\\Users\\giaa9\\anaconda3\\envs\\pymc\\lib\\site-packages\\arviz\\data\\base.py:146: UserWarning: More chains (34) than draws (1). Passed array should have shape (chains, draws, *shape)\n",
      "  UserWarning,\n"
     ]
    },
    {
     "name": "stdout",
     "output_type": "stream",
     "text": [
      "Saving figure InvertedDoublePendulum_density_sample_70\n"
     ]
    },
    {
     "name": "stderr",
     "output_type": "stream",
     "text": [
      "C:\\Users\\giaa9\\anaconda3\\envs\\pymc\\lib\\site-packages\\ipykernel_launcher.py:11: UserWarning: This figure was using constrained_layout==True, but that is incompatible with subplots_adjust and or tight_layout: setting constrained_layout==False. \n",
      "  # This is added back by InteractiveShellApp.init_path()\n",
      "C:\\Users\\giaa9\\anaconda3\\envs\\pymc\\lib\\site-packages\\arviz\\data\\base.py:146: UserWarning: More chains (34) than draws (1). Passed array should have shape (chains, draws, *shape)\n",
      "  UserWarning,\n"
     ]
    },
    {
     "name": "stdout",
     "output_type": "stream",
     "text": [
      "Saving figure InvertedDoublePendulum_density_sample_75\n"
     ]
    },
    {
     "name": "stderr",
     "output_type": "stream",
     "text": [
      "C:\\Users\\giaa9\\anaconda3\\envs\\pymc\\lib\\site-packages\\ipykernel_launcher.py:11: UserWarning: This figure was using constrained_layout==True, but that is incompatible with subplots_adjust and or tight_layout: setting constrained_layout==False. \n",
      "  # This is added back by InteractiveShellApp.init_path()\n",
      "C:\\Users\\giaa9\\anaconda3\\envs\\pymc\\lib\\site-packages\\arviz\\data\\base.py:146: UserWarning: More chains (34) than draws (1). Passed array should have shape (chains, draws, *shape)\n",
      "  UserWarning,\n"
     ]
    },
    {
     "name": "stdout",
     "output_type": "stream",
     "text": [
      "Saving figure InvertedDoublePendulum_density_sample_80\n"
     ]
    },
    {
     "name": "stderr",
     "output_type": "stream",
     "text": [
      "C:\\Users\\giaa9\\anaconda3\\envs\\pymc\\lib\\site-packages\\ipykernel_launcher.py:11: UserWarning: This figure was using constrained_layout==True, but that is incompatible with subplots_adjust and or tight_layout: setting constrained_layout==False. \n",
      "  # This is added back by InteractiveShellApp.init_path()\n",
      "C:\\Users\\giaa9\\anaconda3\\envs\\pymc\\lib\\site-packages\\arviz\\data\\base.py:146: UserWarning: More chains (34) than draws (1). Passed array should have shape (chains, draws, *shape)\n",
      "  UserWarning,\n"
     ]
    },
    {
     "name": "stdout",
     "output_type": "stream",
     "text": [
      "Saving figure InvertedDoublePendulum_density_sample_85\n"
     ]
    },
    {
     "name": "stderr",
     "output_type": "stream",
     "text": [
      "C:\\Users\\giaa9\\anaconda3\\envs\\pymc\\lib\\site-packages\\ipykernel_launcher.py:11: UserWarning: This figure was using constrained_layout==True, but that is incompatible with subplots_adjust and or tight_layout: setting constrained_layout==False. \n",
      "  # This is added back by InteractiveShellApp.init_path()\n",
      "C:\\Users\\giaa9\\anaconda3\\envs\\pymc\\lib\\site-packages\\arviz\\data\\base.py:146: UserWarning: More chains (34) than draws (1). Passed array should have shape (chains, draws, *shape)\n",
      "  UserWarning,\n"
     ]
    },
    {
     "name": "stdout",
     "output_type": "stream",
     "text": [
      "Saving figure InvertedDoublePendulum_density_sample_90\n"
     ]
    },
    {
     "name": "stderr",
     "output_type": "stream",
     "text": [
      "C:\\Users\\giaa9\\anaconda3\\envs\\pymc\\lib\\site-packages\\ipykernel_launcher.py:11: UserWarning: This figure was using constrained_layout==True, but that is incompatible with subplots_adjust and or tight_layout: setting constrained_layout==False. \n",
      "  # This is added back by InteractiveShellApp.init_path()\n",
      "C:\\Users\\giaa9\\anaconda3\\envs\\pymc\\lib\\site-packages\\arviz\\data\\base.py:146: UserWarning: More chains (34) than draws (1). Passed array should have shape (chains, draws, *shape)\n",
      "  UserWarning,\n"
     ]
    },
    {
     "name": "stdout",
     "output_type": "stream",
     "text": [
      "Saving figure InvertedDoublePendulum_density_sample_95\n"
     ]
    },
    {
     "name": "stderr",
     "output_type": "stream",
     "text": [
      "C:\\Users\\giaa9\\anaconda3\\envs\\pymc\\lib\\site-packages\\ipykernel_launcher.py:11: UserWarning: This figure was using constrained_layout==True, but that is incompatible with subplots_adjust and or tight_layout: setting constrained_layout==False. \n",
      "  # This is added back by InteractiveShellApp.init_path()\n"
     ]
    }
   ],
   "source": [
    "import os\n",
    "PROJECT_ROOT_DIR = \".\"\n",
    "IMAGES_PATH = os.path.join(PROJECT_ROOT_DIR, \"images/distribution/new_densities\")\n",
    "os.makedirs(IMAGES_PATH, exist_ok=True)\n",
    "\n",
    "\n",
    "def save_fig(fig_id, tight_layout=True, fig_extension=\"png\", resolution=100):\n",
    "    path = os.path.join(IMAGES_PATH, fig_id + \".\" + fig_extension)\n",
    "    print(\"Saving figure\", fig_id)\n",
    "    if tight_layout:\n",
    "        plt.tight_layout()\n",
    "    plt.savefig(path, format=fig_extension, dpi=resolution)\n",
    "    \n",
    "    \n",
    "    \n",
    "for i in x:\n",
    "    sample = samples34seeds[:, i]\n",
    "    _, (ax0, ax1, ax2) = plt.subplots(1, 3, figsize=(12, 8))\n",
    "    ax0.plot(sample, \"o\", alpha=0.2)\n",
    "    ax0.set_xlabel(\"seed\")\n",
    "    ax0.set_ylabel(\"rewards\")\n",
    "    #az.plot_kde(sample, ax=ax1)\n",
    "    az.plot_posterior(sample, ax=ax1)\n",
    "    ax1.set_xlabel(\"rewards\")\n",
    "    ax1.set_ylabel(\"density\")\n",
    "    ax1.set_title(\"InvertedDoublePendulum\")\n",
    "    mean = np.mean(sample)\n",
    "    sd = np.std(sample)\n",
    "    with pm.Model():\n",
    "        model = pm.TruncatedNormal('TruncatedNormal', mu=mean, sigma=sd, upper=0)\n",
    "        data = model.random(size=34)\n",
    "        az.plot_posterior(data, ax=ax2)\n",
    "        #az.plot_kde(data, ax=ax2)\n",
    "        ax2.set_xlabel(\"rewards\")\n",
    "        ax2.set_ylabel(\"density\")\n",
    "        ax2.set_title(\"TruncatedNormal\")\n",
    "    fig = 'InvertedDoublePendulum_density_sample_' + str(i)\n",
    "    save_fig(fig);"
   ]
  },
  {
   "cell_type": "code",
   "execution_count": null,
   "metadata": {},
   "outputs": [],
   "source": []
  }
 ],
 "metadata": {
  "kernelspec": {
   "display_name": "Python 3",
   "language": "python",
   "name": "python3"
  },
  "language_info": {
   "codemirror_mode": {
    "name": "ipython",
    "version": 3
   },
   "file_extension": ".py",
   "mimetype": "text/x-python",
   "name": "python",
   "nbconvert_exporter": "python",
   "pygments_lexer": "ipython3",
   "version": "3.7.6"
  }
 },
 "nbformat": 4,
 "nbformat_minor": 4
}
